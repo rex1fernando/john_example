{
 "cells": [
  {
   "cell_type": "markdown",
   "metadata": {},
   "source": [
    "# What is group by?\n",
    "\n",
    "The purpose of this is to demonstrate what the \"group by\" clause does in SQL. \n",
    "\n",
    "SQLite is like a baby SQL database; free, lightweight, and the database exists in a single file. Good for testing things out. I'm going to create a table called \"people\" with random rows, each representing an imaginary person."
   ]
  },
  {
   "cell_type": "code",
   "execution_count": 1,
   "metadata": {},
   "outputs": [],
   "source": [
    "import sqlite3\n",
    "import random"
   ]
  },
  {
   "cell_type": "code",
   "execution_count": 2,
   "metadata": {},
   "outputs": [],
   "source": [
    "import sqlite3\n",
    "import random\n",
    "conn = sqlite3.connect('test.sqlite3')\n"
   ]
  },
  {
   "cell_type": "code",
   "execution_count": 3,
   "metadata": {},
   "outputs": [
    {
     "data": {
      "text/plain": [
       "<sqlite3.Cursor at 0x10ecc1b90>"
      ]
     },
     "execution_count": 3,
     "metadata": {},
     "output_type": "execute_result"
    }
   ],
   "source": [
    "\n",
    "conn.execute(\"drop table people\")\n"
   ]
  },
  {
   "cell_type": "code",
   "execution_count": 3,
   "metadata": {},
   "outputs": [
    {
     "ename": "OperationalError",
     "evalue": "table people already exists",
     "output_type": "error",
     "traceback": [
      "\u001b[0;31m---------------------------------------------------------------------------\u001b[0m",
      "\u001b[0;31mOperationalError\u001b[0m                          Traceback (most recent call last)",
      "\u001b[0;32m<ipython-input-3-4e02c300f1bb>\u001b[0m in \u001b[0;36m<module>\u001b[0;34m\u001b[0m\n\u001b[1;32m      1\u001b[0m \u001b[0;34m\u001b[0m\u001b[0m\n\u001b[0;32m----> 2\u001b[0;31m \u001b[0mconn\u001b[0m\u001b[0;34m.\u001b[0m\u001b[0mexecute\u001b[0m\u001b[0;34m(\u001b[0m\u001b[0;34m\"create table people  (id integer PRIMARY KEY, firstname varchar[100], lastname varchar[100], weight integer, age integer)\"\u001b[0m\u001b[0;34m)\u001b[0m\u001b[0;34m\u001b[0m\u001b[0;34m\u001b[0m\u001b[0m\n\u001b[0m\u001b[1;32m      3\u001b[0m \u001b[0;34m\u001b[0m\u001b[0m\n\u001b[1;32m      4\u001b[0m \u001b[0;32mfor\u001b[0m \u001b[0mi\u001b[0m \u001b[0;32min\u001b[0m \u001b[0mrange\u001b[0m\u001b[0;34m(\u001b[0m\u001b[0;36m1000\u001b[0m\u001b[0;34m)\u001b[0m\u001b[0;34m:\u001b[0m\u001b[0;34m\u001b[0m\u001b[0;34m\u001b[0m\u001b[0m\n\u001b[1;32m      5\u001b[0m     \u001b[0mrandom_firstname\u001b[0m \u001b[0;34m=\u001b[0m  \u001b[0;34m''\u001b[0m\u001b[0;34m.\u001b[0m\u001b[0mjoin\u001b[0m\u001b[0;34m(\u001b[0m\u001b[0mrandom\u001b[0m\u001b[0;34m.\u001b[0m\u001b[0mchoice\u001b[0m\u001b[0;34m(\u001b[0m\u001b[0;34m\"abcdefghijklmnopqrstuvwxyz\"\u001b[0m\u001b[0;34m)\u001b[0m \u001b[0;32mfor\u001b[0m \u001b[0mi\u001b[0m \u001b[0;32min\u001b[0m \u001b[0mrange\u001b[0m\u001b[0;34m(\u001b[0m\u001b[0;36m20\u001b[0m\u001b[0;34m)\u001b[0m\u001b[0;34m)\u001b[0m\u001b[0;34m\u001b[0m\u001b[0;34m\u001b[0m\u001b[0m\n",
      "\u001b[0;31mOperationalError\u001b[0m: table people already exists"
     ]
    }
   ],
   "source": [
    "\n",
    "conn.execute(\"create table people  (id integer PRIMARY KEY, firstname varchar[100], lastname varchar[100], weight integer, age integer)\")\n",
    "\n",
    "for i in range(1000):\n",
    "    random_firstname =  ''.join(random.choice(\"abcdefghijklmnopqrstuvwxyz\") for i in range(20))\n",
    "    random_lastname =  ''.join(random.choice(\"abcdefghijklmnopqrstuvwxyz\") for i in range(20))\n",
    "    random_age = random.randint(5, 50)\n",
    "    random_weight = random.randint(random_age*4, random_age*9)\n",
    "    conn.execute(\"insert into people values (?,?,?,?,?)\", (i, random_firstname, random_lastname, random_weight, random_age))\n",
    "       \n",
    "\n",
    "conn.commit()\n",
    "\n",
    "\n"
   ]
  },
  {
   "cell_type": "code",
   "execution_count": 4,
   "metadata": {},
   "outputs": [
    {
     "name": "stdout",
     "output_type": "stream",
     "text": [
      "(0, 'jhxwwukzikvpaqrbgyjc', 'bqmizvkefxkdtdjukeze', 334, 39)\n",
      "(1, 'opzaxzzveblxlrdvqjsk', 'vpugcimnwjnhqxgfejcc', 62, 15)\n",
      "(2, 'mvxmzkcaljoojhriyaed', 'rnegzelhrsrppntbrzyg', 320, 45)\n",
      "(3, 'tyklamzfcekjnwmtmnvv', 'ezatjnplnbbjxulbldgh', 83, 10)\n",
      "(4, 'avtbmvnpqqydvbqdqacy', 'thxqfqizklyoxqkyhvod', 178, 29)\n",
      "(5, 'lrcvbjyvnccinlmdwnpd', 'jfxyvnbsledzgqvgdbwg', 68, 8)\n",
      "(6, 'onqkdenfubnjetmbehgr', 'rxuwcizmhaplbemovnjq', 107, 20)\n",
      "(7, 'soofxqdynubmehznqdze', 'gideibaaxhsgmzraclzq', 54, 8)\n",
      "(8, 'wiatospnqdrhcazlzqjl', 'vqlhsxnxddtmcnzseqdu', 153, 27)\n",
      "(9, 'bfimduuqnxawwrpqpxjw', 'slfsjzdbbsqqajpxunhf', 124, 26)\n"
     ]
    }
   ],
   "source": [
    "c = conn.cursor()\n",
    "for row in c.execute(\"select * from people\").fetchmany(10):\n",
    "    print(row)\n",
    "    "
   ]
  },
  {
   "cell_type": "markdown",
   "metadata": {},
   "source": [
    "Let's first talk about \"order by\". "
   ]
  },
  {
   "cell_type": "code",
   "execution_count": 6,
   "metadata": {},
   "outputs": [
    {
     "name": "stdout",
     "output_type": "stream",
     "text": [
      "(79, 'ixjjxeocdyhijphbigyt', 'mhhduajcqfjziivoccdb', 36, 5)\n",
      "(151, 'gfmgdetsbdcyalgmnggw', 'vcgaxbznnjsfhyugrvgh', 21, 5)\n",
      "(260, 'bzhverbcfdiuewjituml', 'bzxtpzfovwfwfzyhejjt', 27, 5)\n",
      "(361, 'hydomufoiphiszakafmu', 'thratikfnflftdvycdds', 20, 5)\n",
      "(381, 'tafchgnkvaoywdjbopik', 'bfoqryplxrfrueopwfev', 38, 5)\n",
      "(382, 'exknhddlgzrdmgfnpuno', 'mnozaniakbjvdwaprcql', 27, 5)\n",
      "(445, 'eyjpkqlldwbqahqzgcdh', 'qclktqqitlmoqkxmhhyt', 38, 5)\n",
      "(454, 'bfuqfgkctqwtoetgqiid', 'bhgskslmptblafyzzuqi', 34, 5)\n",
      "(455, 'jpqrsecdguqvnordczmf', 'zgyvobnqodsdfagvuxbk', 36, 5)\n",
      "(547, 'ovvtdiiahlhodrylvfvv', 'yohofyszaicwjszhnkwk', 29, 5)\n",
      "(589, 'bxaohbthajnkvkzjaeig', 'awethdwqsucpkxmjokgo', 38, 5)\n",
      "(606, 'dsnkdayicrqqkvtnvxle', 'cfpuikyrrkhrrkyxxpyt', 35, 5)\n",
      "(649, 'qbbmighacdxwjmkxevei', 'klmatacivbyxrtryihex', 22, 5)\n",
      "(671, 'xbatrxlvjgftmiuyuvbj', 'knqnexhigfrkqxpdjcvp', 38, 5)\n",
      "(822, 'pnhcaabofuqvmctstxqg', 'pvnkieoskabhxkxbaeya', 25, 5)\n",
      "(978, 'dgggwwmxjzeoflymwjie', 'ofibymcmpupgbssocrvz', 25, 5)\n",
      "(997, 'juctcpykkpdewwnsbhtu', 'ctlpkqihtzzjpdktyeqr', 33, 5)\n",
      "(218, 'ukcztnpqlvyfzsjzimip', 'qljzgykospysbgxgsywi', 45, 6)\n",
      "(247, 'xaeewplhmfvorlfaegrv', 'yeupaipiigxyidlqlaah', 39, 6)\n",
      "(255, 'vsumvrvkxrrkgacpkuji', 'aykxqiignbwsfyakpkqb', 51, 6)\n"
     ]
    }
   ],
   "source": [
    "c = conn.cursor()\n",
    "for row in c.execute(\"select * from people order by age\").fetchmany(20):\n",
    "    print(row)"
   ]
  },
  {
   "cell_type": "code",
   "execution_count": 7,
   "metadata": {
    "scrolled": true
   },
   "outputs": [
    {
     "name": "stdout",
     "output_type": "stream",
     "text": [
      "(361, 'hydomufoiphiszakafmu', 'thratikfnflftdvycdds', 20, 5)\n",
      "(151, 'gfmgdetsbdcyalgmnggw', 'vcgaxbznnjsfhyugrvgh', 21, 5)\n",
      "(649, 'qbbmighacdxwjmkxevei', 'klmatacivbyxrtryihex', 22, 5)\n",
      "(793, 'rysfxzvslbyfssqospmw', 'heymflljngdrwwweupbu', 24, 6)\n",
      "(806, 'ydlovlyvisqrnykalgup', 'gxeoutwzyfppwtawkdua', 25, 6)\n",
      "(822, 'pnhcaabofuqvmctstxqg', 'pvnkieoskabhxkxbaeya', 25, 5)\n",
      "(978, 'dgggwwmxjzeoflymwjie', 'ofibymcmpupgbssocrvz', 25, 5)\n",
      "(295, 'plujjkvwbshsxuhnmshs', 'qkqewxgjthqymdkqjqhh', 26, 6)\n",
      "(723, 'lmoeefiofpdqgoswqskn', 'yhcwjrfnttsxbjjpbrzj', 26, 6)\n",
      "(260, 'bzhverbcfdiuewjituml', 'bzxtpzfovwfwfzyhejjt', 27, 5)\n",
      "(382, 'exknhddlgzrdmgfnpuno', 'mnozaniakbjvdwaprcql', 27, 5)\n",
      "(613, 'esbfcpscicmakxjztsww', 'checzbudvgvjuamxfqpz', 28, 7)\n",
      "(155, 'yfylkeesjkkavtlrmeel', 'fjqajnsffqzguuemparg', 29, 7)\n",
      "(547, 'ovvtdiiahlhodrylvfvv', 'yohofyszaicwjszhnkwk', 29, 5)\n",
      "(267, 'nnzinivilwsslgvoeujz', 'lcaflukhdtfibfzfvews', 30, 6)\n",
      "(624, 'hcztueuqiezclwyvains', 'wslhtnhurwjkqayyqtos', 31, 6)\n",
      "(957, 'jcslfmhjklfgsgbivdtq', 'ixwunhcsblfysswjcqdi', 32, 6)\n",
      "(129, 'agbgbxbgmvfctidzvqet', 'ecdylfjguhebrcytnxpr', 33, 8)\n",
      "(219, 'udeulzjenmurvwdfdldb', 'ryeqadhksrzfvkmkfsfk', 33, 7)\n",
      "(270, 'sphabrcuekkgjlfgtllx', 'csqydblsfhccdxidteex', 33, 6)\n"
     ]
    }
   ],
   "source": [
    "c = conn.cursor()\n",
    "for row in c.execute(\"select * from people order by weight\").fetchmany(20):\n",
    "    print(row)"
   ]
  },
  {
   "cell_type": "markdown",
   "metadata": {},
   "source": [
    "order by returns the whole results of the select statement, except that it sorts the results by some column.\n",
    "\n",
    "Ok let's demonstrate aggregation functions. You can compute the average, or the minimum, or the maximum, of any column. (There are other aggregation functions too that you can look up.)"
   ]
  },
  {
   "cell_type": "code",
   "execution_count": 10,
   "metadata": {},
   "outputs": [
    {
     "data": {
      "text/plain": [
       "[(180.941,)]"
      ]
     },
     "execution_count": 10,
     "metadata": {},
     "output_type": "execute_result"
    }
   ],
   "source": [
    "c = conn.cursor()\n",
    "c.execute(\"select avg(weight) from people\").fetchall()"
   ]
  },
  {
   "cell_type": "code",
   "execution_count": 12,
   "metadata": {},
   "outputs": [
    {
     "data": {
      "text/plain": [
       "[(20,)]"
      ]
     },
     "execution_count": 12,
     "metadata": {},
     "output_type": "execute_result"
    }
   ],
   "source": [
    "c = conn.cursor()\n",
    "c.execute(\"select min(weight) from people\").fetchall()"
   ]
  },
  {
   "cell_type": "code",
   "execution_count": 13,
   "metadata": {},
   "outputs": [
    {
     "data": {
      "text/plain": [
       "[(444,)]"
      ]
     },
     "execution_count": 13,
     "metadata": {},
     "output_type": "execute_result"
    }
   ],
   "source": [
    "c = conn.cursor()\n",
    "c.execute(\"select max(weight) from people\").fetchall()"
   ]
  },
  {
   "cell_type": "markdown",
   "metadata": {},
   "source": [
    "What if you want to get the average age for a specific age? You can do it like this:"
   ]
  },
  {
   "cell_type": "code",
   "execution_count": 14,
   "metadata": {},
   "outputs": [
    {
     "data": {
      "text/plain": [
       "[(112.58333333333333,)]"
      ]
     },
     "execution_count": 14,
     "metadata": {},
     "output_type": "execute_result"
    }
   ],
   "source": [
    "c = conn.cursor()\n",
    "c.execute(\"select avg(weight) from people where age = 18\").fetchall()"
   ]
  },
  {
   "cell_type": "code",
   "execution_count": 15,
   "metadata": {},
   "outputs": [
    {
     "data": {
      "text/plain": [
       "[(312.9310344827586,)]"
      ]
     },
     "execution_count": 15,
     "metadata": {},
     "output_type": "execute_result"
    }
   ],
   "source": [
    "c = conn.cursor()\n",
    "c.execute(\"select avg(weight) from people where age = 50\").fetchall()"
   ]
  },
  {
   "cell_type": "markdown",
   "metadata": {},
   "source": [
    "But what if you want to get the average weight by age, for all ages at once? This is what \"group by\" allows you to do."
   ]
  },
  {
   "cell_type": "code",
   "execution_count": 18,
   "metadata": {},
   "outputs": [
    {
     "name": "stdout",
     "output_type": "stream",
     "text": [
      "(5, 30.705882352941178)\n",
      "(6, 39.38461538461539)\n",
      "(7, 45.294117647058826)\n",
      "(8, 49.77777777777778)\n",
      "(9, 60.03846153846154)\n",
      "(10, 67.44827586206897)\n",
      "(11, 73.53846153846153)\n",
      "(12, 76.07407407407408)\n",
      "(13, 84.42857142857143)\n",
      "(14, 91.0)\n",
      "(15, 89.22222222222223)\n",
      "(16, 99.5)\n",
      "(17, 112.47368421052632)\n",
      "(18, 112.58333333333333)\n",
      "(19, 130.38888888888889)\n",
      "(20, 120.38095238095238)\n",
      "(21, 139.36)\n",
      "(22, 143.58333333333334)\n",
      "(23, 149.54545454545453)\n",
      "(24, 169.8125)\n",
      "(25, 169.27272727272728)\n",
      "(26, 163.04347826086956)\n",
      "(27, 187.0)\n",
      "(28, 193.11764705882354)\n",
      "(29, 204.0)\n",
      "(30, 194.0)\n",
      "(31, 210.30434782608697)\n",
      "(32, 211.2608695652174)\n",
      "(33, 220.57142857142858)\n",
      "(34, 211.1)\n",
      "(35, 222.73333333333332)\n",
      "(36, 242.32258064516128)\n",
      "(37, 235.1818181818182)\n",
      "(38, 244.8095238095238)\n",
      "(39, 289.0625)\n",
      "(40, 227.8)\n",
      "(41, 270.04761904761904)\n",
      "(42, 270.9375)\n",
      "(43, 291.9259259259259)\n",
      "(44, 289.69565217391306)\n",
      "(45, 289.45454545454544)\n",
      "(46, 291.94444444444446)\n",
      "(47, 316.1818181818182)\n",
      "(48, 317.0952380952381)\n",
      "(49, 319.42857142857144)\n",
      "(50, 312.9310344827586)\n"
     ]
    }
   ],
   "source": [
    "c = conn.cursor()\n",
    "for row in c.execute(\"select age,avg(weight) from people group by age\"):\n",
    "    print(row)"
   ]
  },
  {
   "cell_type": "markdown",
   "metadata": {},
   "source": [
    "Here's a demonstration of partition by:"
   ]
  },
  {
   "cell_type": "code",
   "execution_count": 11,
   "metadata": {},
   "outputs": [
    {
     "name": "stdout",
     "output_type": "stream",
     "text": [
      "(79, 'ixjjxeocdyhijphbigyt', 'mhhduajcqfjziivoccdb', 36, 5, 30.705882352941178)\n",
      "(151, 'gfmgdetsbdcyalgmnggw', 'vcgaxbznnjsfhyugrvgh', 21, 5, 30.705882352941178)\n",
      "(260, 'bzhverbcfdiuewjituml', 'bzxtpzfovwfwfzyhejjt', 27, 5, 30.705882352941178)\n",
      "(361, 'hydomufoiphiszakafmu', 'thratikfnflftdvycdds', 20, 5, 30.705882352941178)\n",
      "(381, 'tafchgnkvaoywdjbopik', 'bfoqryplxrfrueopwfev', 38, 5, 30.705882352941178)\n",
      "(382, 'exknhddlgzrdmgfnpuno', 'mnozaniakbjvdwaprcql', 27, 5, 30.705882352941178)\n",
      "(445, 'eyjpkqlldwbqahqzgcdh', 'qclktqqitlmoqkxmhhyt', 38, 5, 30.705882352941178)\n",
      "(454, 'bfuqfgkctqwtoetgqiid', 'bhgskslmptblafyzzuqi', 34, 5, 30.705882352941178)\n",
      "(455, 'jpqrsecdguqvnordczmf', 'zgyvobnqodsdfagvuxbk', 36, 5, 30.705882352941178)\n",
      "(547, 'ovvtdiiahlhodrylvfvv', 'yohofyszaicwjszhnkwk', 29, 5, 30.705882352941178)\n",
      "(589, 'bxaohbthajnkvkzjaeig', 'awethdwqsucpkxmjokgo', 38, 5, 30.705882352941178)\n",
      "(606, 'dsnkdayicrqqkvtnvxle', 'cfpuikyrrkhrrkyxxpyt', 35, 5, 30.705882352941178)\n",
      "(649, 'qbbmighacdxwjmkxevei', 'klmatacivbyxrtryihex', 22, 5, 30.705882352941178)\n",
      "(671, 'xbatrxlvjgftmiuyuvbj', 'knqnexhigfrkqxpdjcvp', 38, 5, 30.705882352941178)\n",
      "(822, 'pnhcaabofuqvmctstxqg', 'pvnkieoskabhxkxbaeya', 25, 5, 30.705882352941178)\n",
      "(978, 'dgggwwmxjzeoflymwjie', 'ofibymcmpupgbssocrvz', 25, 5, 30.705882352941178)\n",
      "(997, 'juctcpykkpdewwnsbhtu', 'ctlpkqihtzzjpdktyeqr', 33, 5, 30.705882352941178)\n",
      "(218, 'ukcztnpqlvyfzsjzimip', 'qljzgykospysbgxgsywi', 45, 6, 39.38461538461539)\n",
      "(247, 'xaeewplhmfvorlfaegrv', 'yeupaipiigxyidlqlaah', 39, 6, 39.38461538461539)\n",
      "(255, 'vsumvrvkxrrkgacpkuji', 'aykxqiignbwsfyakpkqb', 51, 6, 39.38461538461539)\n",
      "(267, 'nnzinivilwsslgvoeujz', 'lcaflukhdtfibfzfvews', 30, 6, 39.38461538461539)\n",
      "(270, 'sphabrcuekkgjlfgtllx', 'csqydblsfhccdxidteex', 33, 6, 39.38461538461539)\n",
      "(272, 'ujrizizbjigmvvbxyfum', 'ojrrmzzdehgkpjebejfl', 54, 6, 39.38461538461539)\n",
      "(274, 'iihcuwztxryezddapyty', 'awglmxjrszttctpqrdyr', 40, 6, 39.38461538461539)\n",
      "(295, 'plujjkvwbshsxuhnmshs', 'qkqewxgjthqymdkqjqhh', 26, 6, 39.38461538461539)\n",
      "(306, 'mbenioksoqtvyxpxsmoc', 'xjvizapihbqpdepzyrog', 33, 6, 39.38461538461539)\n",
      "(333, 'fsppeifwvxoplpdjzrud', 'kksvqfogpcldehmpuzwq', 45, 6, 39.38461538461539)\n",
      "(336, 'hdkziboiallaocekxvqb', 'pxokprizwdsdjhqgypcw', 50, 6, 39.38461538461539)\n",
      "(362, 'hgazlogduxdmsximtqin', 'zldnryiugjpzxbrbawhd', 53, 6, 39.38461538461539)\n",
      "(363, 'ttozpwgvvieuyjqjykwu', 'kdatsscgzugeoyavtfsq', 44, 6, 39.38461538461539)\n"
     ]
    }
   ],
   "source": [
    "c = conn.cursor()\n",
    "for row in c.execute(\"select *,avg(weight) over (partition by age) from people\").fetchmany(30):\n",
    "    print(row)"
   ]
  },
  {
   "cell_type": "code",
   "execution_count": null,
   "metadata": {},
   "outputs": [],
   "source": []
  }
 ],
 "metadata": {
  "kernelspec": {
   "display_name": "Python 3",
   "language": "python",
   "name": "python3"
  },
  "language_info": {
   "codemirror_mode": {
    "name": "ipython",
    "version": 3
   },
   "file_extension": ".py",
   "mimetype": "text/x-python",
   "name": "python",
   "nbconvert_exporter": "python",
   "pygments_lexer": "ipython3",
   "version": "3.7.6"
  }
 },
 "nbformat": 4,
 "nbformat_minor": 4
}
