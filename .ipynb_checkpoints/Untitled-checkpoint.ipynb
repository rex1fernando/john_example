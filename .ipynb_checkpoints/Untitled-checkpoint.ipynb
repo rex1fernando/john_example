{
 "cells": [
  {
   "cell_type": "markdown",
   "metadata": {},
   "source": [
    "# What is group by?\n",
    "\n",
    "The purpose of this is to demonstrate what the \"group by\" clause does in SQL. \n",
    "\n",
    "SQLite is like a baby SQL database; free, lightweight, and the database exists in a single file. Good for testing things out. I'm going to create a table called \"people\" with random rows, each representing an imaginary person."
   ]
  },
  {
   "cell_type": "code",
   "execution_count": 1,
   "metadata": {},
   "outputs": [],
   "source": [
    "import sqlite3\n",
    "import random"
   ]
  },
  {
   "cell_type": "code",
   "execution_count": 2,
   "metadata": {},
   "outputs": [],
   "source": [
    "import sqlite3\n",
    "import random\n",
    "conn = sqlite3.connect('test.sqlite3')\n"
   ]
  },
  {
   "cell_type": "code",
   "execution_count": 3,
   "metadata": {},
   "outputs": [
    {
     "data": {
      "text/plain": [
       "<sqlite3.Cursor at 0x10ecc1b90>"
      ]
     },
     "execution_count": 3,
     "metadata": {},
     "output_type": "execute_result"
    }
   ],
   "source": [
    "\n",
    "conn.execute(\"drop table people\")\n"
   ]
  },
  {
   "cell_type": "code",
   "execution_count": 4,
   "metadata": {},
   "outputs": [],
   "source": [
    "\n",
    "conn.execute(\"create table people  (id integer PRIMARY KEY, firstname varchar[100], lastname varchar[100], weight integer, age integer)\")\n",
    "\n",
    "for i in range(1000):\n",
    "    random_firstname =  ''.join(random.choice(\"abcdefghijklmnopqrstuvwxyz\") for i in range(20))\n",
    "    random_lastname =  ''.join(random.choice(\"abcdefghijklmnopqrstuvwxyz\") for i in range(20))\n",
    "    random_age = random.randint(5, 50)\n",
    "    random_weight = random.randint(random_age*4, random_age*9)\n",
    "    conn.execute(\"insert into people values (?,?,?,?,?)\", (i, random_firstname, random_lastname, random_weight, random_age))\n",
    "       \n",
    "\n",
    "conn.commit()\n",
    "\n",
    "\n"
   ]
  },
  {
   "cell_type": "code",
   "execution_count": 5,
   "metadata": {},
   "outputs": [
    {
     "name": "stdout",
     "output_type": "stream",
     "text": [
      "(0, 'jhxwwukzikvpaqrbgyjc', 'bqmizvkefxkdtdjukeze', 334, 39)\n",
      "(1, 'opzaxzzveblxlrdvqjsk', 'vpugcimnwjnhqxgfejcc', 62, 15)\n",
      "(2, 'mvxmzkcaljoojhriyaed', 'rnegzelhrsrppntbrzyg', 320, 45)\n",
      "(3, 'tyklamzfcekjnwmtmnvv', 'ezatjnplnbbjxulbldgh', 83, 10)\n",
      "(4, 'avtbmvnpqqydvbqdqacy', 'thxqfqizklyoxqkyhvod', 178, 29)\n",
      "(5, 'lrcvbjyvnccinlmdwnpd', 'jfxyvnbsledzgqvgdbwg', 68, 8)\n",
      "(6, 'onqkdenfubnjetmbehgr', 'rxuwcizmhaplbemovnjq', 107, 20)\n",
      "(7, 'soofxqdynubmehznqdze', 'gideibaaxhsgmzraclzq', 54, 8)\n",
      "(8, 'wiatospnqdrhcazlzqjl', 'vqlhsxnxddtmcnzseqdu', 153, 27)\n",
      "(9, 'bfimduuqnxawwrpqpxjw', 'slfsjzdbbsqqajpxunhf', 124, 26)\n"
     ]
    }
   ],
   "source": [
    "c = conn.cursor()\n",
    "for row in c.execute(\"select * from people\").fetchmany(10):\n",
    "    print(row)\n",
    "    "
   ]
  },
  {
   "cell_type": "markdown",
   "metadata": {},
   "source": [
    "Let's first talk about \"order by\". "
   ]
  },
  {
   "cell_type": "code",
   "execution_count": 6,
   "metadata": {},
   "outputs": [
    {
     "name": "stdout",
     "output_type": "stream",
     "text": [
      "(79, 'ixjjxeocdyhijphbigyt', 'mhhduajcqfjziivoccdb', 36, 5)\n",
      "(151, 'gfmgdetsbdcyalgmnggw', 'vcgaxbznnjsfhyugrvgh', 21, 5)\n",
      "(260, 'bzhverbcfdiuewjituml', 'bzxtpzfovwfwfzyhejjt', 27, 5)\n",
      "(361, 'hydomufoiphiszakafmu', 'thratikfnflftdvycdds', 20, 5)\n",
      "(381, 'tafchgnkvaoywdjbopik', 'bfoqryplxrfrueopwfev', 38, 5)\n",
      "(382, 'exknhddlgzrdmgfnpuno', 'mnozaniakbjvdwaprcql', 27, 5)\n",
      "(445, 'eyjpkqlldwbqahqzgcdh', 'qclktqqitlmoqkxmhhyt', 38, 5)\n",
      "(454, 'bfuqfgkctqwtoetgqiid', 'bhgskslmptblafyzzuqi', 34, 5)\n",
      "(455, 'jpqrsecdguqvnordczmf', 'zgyvobnqodsdfagvuxbk', 36, 5)\n",
      "(547, 'ovvtdiiahlhodrylvfvv', 'yohofyszaicwjszhnkwk', 29, 5)\n",
      "(589, 'bxaohbthajnkvkzjaeig', 'awethdwqsucpkxmjokgo', 38, 5)\n",
      "(606, 'dsnkdayicrqqkvtnvxle', 'cfpuikyrrkhrrkyxxpyt', 35, 5)\n",
      "(649, 'qbbmighacdxwjmkxevei', 'klmatacivbyxrtryihex', 22, 5)\n",
      "(671, 'xbatrxlvjgftmiuyuvbj', 'knqnexhigfrkqxpdjcvp', 38, 5)\n",
      "(822, 'pnhcaabofuqvmctstxqg', 'pvnkieoskabhxkxbaeya', 25, 5)\n",
      "(978, 'dgggwwmxjzeoflymwjie', 'ofibymcmpupgbssocrvz', 25, 5)\n",
      "(997, 'juctcpykkpdewwnsbhtu', 'ctlpkqihtzzjpdktyeqr', 33, 5)\n",
      "(218, 'ukcztnpqlvyfzsjzimip', 'qljzgykospysbgxgsywi', 45, 6)\n",
      "(247, 'xaeewplhmfvorlfaegrv', 'yeupaipiigxyidlqlaah', 39, 6)\n",
      "(255, 'vsumvrvkxrrkgacpkuji', 'aykxqiignbwsfyakpkqb', 51, 6)\n"
     ]
    }
   ],
   "source": [
    "c = conn.cursor()\n",
    "for row in c.execute(\"select * from people order by age\").fetchmany(20):\n",
    "    print(row)"
   ]
  },
  {
   "cell_type": "code",
   "execution_count": 7,
   "metadata": {
    "scrolled": true
   },
   "outputs": [
    {
     "name": "stdout",
     "output_type": "stream",
     "text": [
      "(361, 'hydomufoiphiszakafmu', 'thratikfnflftdvycdds', 20, 5)\n",
      "(151, 'gfmgdetsbdcyalgmnggw', 'vcgaxbznnjsfhyugrvgh', 21, 5)\n",
      "(649, 'qbbmighacdxwjmkxevei', 'klmatacivbyxrtryihex', 22, 5)\n",
      "(793, 'rysfxzvslbyfssqospmw', 'heymflljngdrwwweupbu', 24, 6)\n",
      "(806, 'ydlovlyvisqrnykalgup', 'gxeoutwzyfppwtawkdua', 25, 6)\n",
      "(822, 'pnhcaabofuqvmctstxqg', 'pvnkieoskabhxkxbaeya', 25, 5)\n",
      "(978, 'dgggwwmxjzeoflymwjie', 'ofibymcmpupgbssocrvz', 25, 5)\n",
      "(295, 'plujjkvwbshsxuhnmshs', 'qkqewxgjthqymdkqjqhh', 26, 6)\n",
      "(723, 'lmoeefiofpdqgoswqskn', 'yhcwjrfnttsxbjjpbrzj', 26, 6)\n",
      "(260, 'bzhverbcfdiuewjituml', 'bzxtpzfovwfwfzyhejjt', 27, 5)\n",
      "(382, 'exknhddlgzrdmgfnpuno', 'mnozaniakbjvdwaprcql', 27, 5)\n",
      "(613, 'esbfcpscicmakxjztsww', 'checzbudvgvjuamxfqpz', 28, 7)\n",
      "(155, 'yfylkeesjkkavtlrmeel', 'fjqajnsffqzguuemparg', 29, 7)\n",
      "(547, 'ovvtdiiahlhodrylvfvv', 'yohofyszaicwjszhnkwk', 29, 5)\n",
      "(267, 'nnzinivilwsslgvoeujz', 'lcaflukhdtfibfzfvews', 30, 6)\n",
      "(624, 'hcztueuqiezclwyvains', 'wslhtnhurwjkqayyqtos', 31, 6)\n",
      "(957, 'jcslfmhjklfgsgbivdtq', 'ixwunhcsblfysswjcqdi', 32, 6)\n",
      "(129, 'agbgbxbgmvfctidzvqet', 'ecdylfjguhebrcytnxpr', 33, 8)\n",
      "(219, 'udeulzjenmurvwdfdldb', 'ryeqadhksrzfvkmkfsfk', 33, 7)\n",
      "(270, 'sphabrcuekkgjlfgtllx', 'csqydblsfhccdxidteex', 33, 6)\n"
     ]
    }
   ],
   "source": [
    "c = conn.cursor()\n",
    "for row in c.execute(\"select * from people order by weight\").fetchmany(20):\n",
    "    print(row)"
   ]
  },
  {
   "cell_type": "markdown",
   "metadata": {},
   "source": [
    "order by returns the whole results of the select statement, except that it sorts the results by some column."
   ]
  },
  {
   "cell_type": "code",
   "execution_count": 10,
   "metadata": {},
   "outputs": [
    {
     "data": {
      "text/plain": [
       "[(180.941,)]"
      ]
     },
     "execution_count": 10,
     "metadata": {},
     "output_type": "execute_result"
    }
   ],
   "source": [
    "c = conn.cursor()\n",
    "c.execute(\"select avg(weight) from people\").fetchall()"
   ]
  },
  {
   "cell_type": "code",
   "execution_count": 12,
   "metadata": {},
   "outputs": [
    {
     "data": {
      "text/plain": [
       "[(20,)]"
      ]
     },
     "execution_count": 12,
     "metadata": {},
     "output_type": "execute_result"
    }
   ],
   "source": [
    "c = conn.cursor()\n",
    "c.execute(\"select min(weight) from people\").fetchall()"
   ]
  },
  {
   "cell_type": "code",
   "execution_count": null,
   "metadata": {},
   "outputs": [],
   "source": [
    "c = conn.cursor()\n",
    "c.execute(\"select max(weight) from people\").fetchall()"
   ]
  }
 ],
 "metadata": {
  "kernelspec": {
   "display_name": "Python 3",
   "language": "python",
   "name": "python3"
  },
  "language_info": {
   "codemirror_mode": {
    "name": "ipython",
    "version": 3
   },
   "file_extension": ".py",
   "mimetype": "text/x-python",
   "name": "python",
   "nbconvert_exporter": "python",
   "pygments_lexer": "ipython3",
   "version": "3.7.4"
  }
 },
 "nbformat": 4,
 "nbformat_minor": 2
}
